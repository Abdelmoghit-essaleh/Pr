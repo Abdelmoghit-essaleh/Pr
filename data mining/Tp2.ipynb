{
 "cells": [
  {
   "cell_type": "code",
   "execution_count": 1,
   "id": "11ea19b6",
   "metadata": {},
   "outputs": [],
   "source": [
    "import pandas as pd \n",
    "import numpy as np \n",
    "import matplotlib.pyplot as plt"
   ]
  },
  {
   "cell_type": "code",
   "execution_count": 6,
   "id": "28a43f1d",
   "metadata": {},
   "outputs": [
    {
     "data": {
      "text/html": [
       "<div>\n",
       "<style scoped>\n",
       "    .dataframe tbody tr th:only-of-type {\n",
       "        vertical-align: middle;\n",
       "    }\n",
       "\n",
       "    .dataframe tbody tr th {\n",
       "        vertical-align: top;\n",
       "    }\n",
       "\n",
       "    .dataframe thead th {\n",
       "        text-align: right;\n",
       "    }\n",
       "</style>\n",
       "<table border=\"1\" class=\"dataframe\">\n",
       "  <thead>\n",
       "    <tr style=\"text-align: right;\">\n",
       "      <th></th>\n",
       "      <th>1.2</th>\n",
       "      <th>2.0</th>\n",
       "    </tr>\n",
       "  </thead>\n",
       "  <tbody>\n",
       "    <tr>\n",
       "      <th>0</th>\n",
       "      <td>2.03</td>\n",
       "      <td>1.80</td>\n",
       "    </tr>\n",
       "    <tr>\n",
       "      <th>1</th>\n",
       "      <td>3.00</td>\n",
       "      <td>2.50</td>\n",
       "    </tr>\n",
       "    <tr>\n",
       "      <th>2</th>\n",
       "      <td>4.20</td>\n",
       "      <td>3.12</td>\n",
       "    </tr>\n",
       "    <tr>\n",
       "      <th>3</th>\n",
       "      <td>5.01</td>\n",
       "      <td>5.10</td>\n",
       "    </tr>\n",
       "    <tr>\n",
       "      <th>4</th>\n",
       "      <td>6.03</td>\n",
       "      <td>4.87</td>\n",
       "    </tr>\n",
       "  </tbody>\n",
       "</table>\n",
       "</div>"
      ],
      "text/plain": [
       "    1.2   2.0\n",
       "0  2.03  1.80\n",
       "1  3.00  2.50\n",
       "2  4.20  3.12\n",
       "3  5.01  5.10\n",
       "4  6.03  4.87"
      ]
     },
     "execution_count": 6,
     "metadata": {},
     "output_type": "execute_result"
    }
   ],
   "source": [
    "df=pd.read_csv('data/data.csv')\n",
    "df"
   ]
  },
  {
   "cell_type": "code",
   "execution_count": 7,
   "id": "2bddb1bc",
   "metadata": {},
   "outputs": [],
   "source": [
    "X=df.iloc[0:len(df),0]\n",
    "Y=df.iloc[0:len(df),1]\n"
   ]
  },
  {
   "cell_type": "code",
   "execution_count": 16,
   "id": "2dab9bfe",
   "metadata": {},
   "outputs": [],
   "source": [
    "#Calclul des derivees partielles \n",
    "def calul_derivees_partielles(theta0,theta1):\n",
    "    d_theta0=0.0\n",
    "    d_theta1=0.0\n",
    "    for i in range(len(X)):\n",
    "        d_theta0+=theta1*X[i]+theta0-Y[i]\n",
    "        d_theta1+=(theta1*X[i]+theta1-Y[i])*X[i]\n",
    "    d_theta0=1/len(X)*d_theta0\n",
    "    d_theta1=1/len(X)*d_theta1\n",
    "    return [d_theta0,d_theta1]\n",
    "    "
   ]
  },
  {
   "cell_type": "code",
   "execution_count": 17,
   "id": "4cc13fc7",
   "metadata": {},
   "outputs": [],
   "source": [
    " #mise a jour \n",
    "def mis_a_jour_theta(theta0,theta1):\n",
    "        \n",
    "        d_theta0,d_theta1=calul_derivees_partielles(theta0,theta1)\n",
    "        n_theta0=theta0-alpha*d_theta0\n",
    "        n_theta1=theta1-alpha*d_theta1\n",
    "        return n_theta0,n_theta1\n",
    "        "
   ]
  },
  {
   "cell_type": "code",
   "execution_count": 18,
   "id": "4599ea02",
   "metadata": {},
   "outputs": [
    {
     "name": "stdout",
     "output_type": "stream",
     "text": [
      "0.6246758459882212 0.7038293423793178\n"
     ]
    }
   ],
   "source": [
    "#fonction de desente de gradient\n",
    "alpha=0.01\n",
    "nbr_iter=2500\n",
    "def descente_gradient():\n",
    "    theta0=0.0\n",
    "    theta1=0.0\n",
    "    for i in range(nbr_iter):\n",
    "        n_theta0,n_theta1=mis_a_jour_theta(theta0,theta1)\n",
    "        theta0=n_theta0\n",
    "        theta1=n_theta1\n",
    "    return theta0,theta1\n",
    "theta0,theta1=descente_gradient() \n",
    "print(theta0,theta1)"
   ]
  },
  {
   "cell_type": "code",
   "execution_count": null,
   "id": "9fb65491",
   "metadata": {},
   "outputs": [],
   "source": []
  }
 ],
 "metadata": {
  "kernelspec": {
   "display_name": "Python 3 (ipykernel)",
   "language": "python",
   "name": "python3"
  },
  "language_info": {
   "codemirror_mode": {
    "name": "ipython",
    "version": 3
   },
   "file_extension": ".py",
   "mimetype": "text/x-python",
   "name": "python",
   "nbconvert_exporter": "python",
   "pygments_lexer": "ipython3",
   "version": "3.11.5"
  }
 },
 "nbformat": 4,
 "nbformat_minor": 5
}
